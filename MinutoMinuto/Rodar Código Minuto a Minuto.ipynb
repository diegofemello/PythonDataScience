{
 "cells": [
  {
   "cell_type": "code",
   "execution_count": 3,
   "id": "edfb0e68",
   "metadata": {},
   "outputs": [
    {
     "name": "stdout",
     "output_type": "stream",
     "text": [
      "Cotação Atualizada. 2021-11-22 13:01:59.228537\n",
      "Cotação Atualizada. 2021-11-22 13:02:09.386555\n"
     ]
    }
   ],
   "source": [
    "import requests\n",
    "import pandas as pd\n",
    "from datetime import datetime\n",
    "import time\n",
    "from IPython.display import display\n",
    "\n",
    "for i in range(2):\n",
    "  requisicao = requests.get(\"https://economia.awesomeapi.com.br/last/USD-BRL,EUR-BRL,BTC-BRL\")\n",
    "  requisicao_dic = requisicao.json()\n",
    "\n",
    "  cotacao_dolar = requisicao_dic[\"USDBRL\"][\"bid\"]\n",
    "  cotacao_euro = requisicao_dic[\"EURBRL\"][\"bid\"]\n",
    "  cotacao_btc = requisicao_dic[\"BTCBRL\"][\"bid\"]\n",
    "\n",
    "  tabela = pd.read_excel(\"Cotações.xlsx\")\n",
    "  tabela.loc[0, \"Cotação\"] = float(cotacao_dolar)\n",
    "  tabela.loc[1, \"Cotação\"] = float(cotacao_euro)\n",
    "  tabela.loc[2, \"Cotação\"] = float(cotacao_btc) * 1000\n",
    "  tabela.loc[0, \"Data Última Atualização\"] = datetime.now()\n",
    "\n",
    "  tabela.to_excel(\"Cotações.xlsx\", index=False)\n",
    "  print(f\"Cotação Atualizada. {datetime.now()}\")\n",
    "  \n",
    "  time.sleep(10)"
   ]
  },
  {
   "cell_type": "code",
   "execution_count": null,
   "id": "86d3d051",
   "metadata": {},
   "outputs": [
    {
     "data": {
      "text/html": [
       "<div>\n",
       "<style scoped>\n",
       "    .dataframe tbody tr th:only-of-type {\n",
       "        vertical-align: middle;\n",
       "    }\n",
       "\n",
       "    .dataframe tbody tr th {\n",
       "        vertical-align: top;\n",
       "    }\n",
       "\n",
       "    .dataframe thead th {\n",
       "        text-align: right;\n",
       "    }\n",
       "</style>\n",
       "<table border=\"1\" class=\"dataframe\">\n",
       "  <thead>\n",
       "    <tr style=\"text-align: right;\">\n",
       "      <th></th>\n",
       "      <th>Moeda</th>\n",
       "      <th>Cotação</th>\n",
       "      <th>Data Última Atualização</th>\n",
       "    </tr>\n",
       "  </thead>\n",
       "  <tbody>\n",
       "    <tr>\n",
       "      <th>0</th>\n",
       "      <td>Dólar</td>\n",
       "      <td>5.5833</td>\n",
       "      <td>2021-11-22 12:53:20.085</td>\n",
       "    </tr>\n",
       "    <tr>\n",
       "      <th>1</th>\n",
       "      <td>Euro</td>\n",
       "      <td>6.2775</td>\n",
       "      <td>NaT</td>\n",
       "    </tr>\n",
       "    <tr>\n",
       "      <th>2</th>\n",
       "      <td>BTC</td>\n",
       "      <td>328000.0000</td>\n",
       "      <td>NaT</td>\n",
       "    </tr>\n",
       "  </tbody>\n",
       "</table>\n",
       "</div>"
      ],
      "text/plain": [
       "   Moeda      Cotação Data Última Atualização\n",
       "0  Dólar       5.5833 2021-11-22 12:53:20.085\n",
       "1   Euro       6.2775                     NaT\n",
       "2    BTC  328000.0000                     NaT"
      ]
     },
     "metadata": {},
     "output_type": "display_data"
    }
   ],
   "source": [
    "cotacoes = pd.read_excel(\"Cotações.xlsx\")\n",
    "\n",
    "display(cotacoes)"
   ]
  }
 ],
 "metadata": {
  "kernelspec": {
   "display_name": "Python 3",
   "language": "python",
   "name": "python3"
  },
  "language_info": {
   "codemirror_mode": {
    "name": "ipython",
    "version": 3
   },
   "file_extension": ".py",
   "mimetype": "text/x-python",
   "name": "python",
   "nbconvert_exporter": "python",
   "pygments_lexer": "ipython3",
   "version": "3.10.0"
  }
 },
 "nbformat": 4,
 "nbformat_minor": 5
}
